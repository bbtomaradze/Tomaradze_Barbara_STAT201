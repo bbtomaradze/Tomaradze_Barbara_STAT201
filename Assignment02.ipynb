{
 "cells": [
  {
   "cell_type": "raw",
   "metadata": {
    "vscode": {
     "languageId": "raw"
    }
   },
   "source": [
    "---\n",
    "title: \"Assignment 2\"\n",
    "subtitle: \"STAT 201\"\n",
    "author: \"Barbara Tomaradze\"\n",
    "format:\n",
    "  html:\n",
    "    toc: true\n",
    "    embed-resources: true\n",
    "---"
   ]
  },
  {
   "cell_type": "markdown",
   "metadata": {},
   "source": [
    "### Instructions"
   ]
  },
  {
   "cell_type": "markdown",
   "metadata": {},
   "source": [
    "1. **Write your name** on the assignment.\n",
    "\n",
    "2. Write your code in the *Code* cells of the **template provided** to write solutions for the assignment. **Do not open a new notebook**, and work from scratch. Ensure that the solution is written neatly enough to understand and grade.\n",
    "\n",
    "3. Use [Quarto](https://quarto.org/docs/output-formats/html-basics.html) to print the *.ipynb* file as HTML. You will need to open the command prompt, navigate to the directory containing the file, and use the command: `quarto render filename.ipynb --to html`. Submit the HTML file.\n",
    "\n",
    "4. You may talk to a friend, discuss the questions and potential directions for solving them. However, you need to write your own solutions and code separately, and not as a group activity. Do not use AI to solve the problems.\n",
    "\n",
    "5. There are 2 points for cleanliness and organization. The breakdown is as follows:\n",
    "    - Must be an HTML file rendered using Quarto. \n",
    "    - There aren’t excessively long outputs of extraneous information (e.g. no printouts of unnecessary results without good reason, there aren’t long printouts of which iteration a loop is on, there aren’t long sections of commented-out code, etc.). There is no piece of unnecessary / redundant code, and no unnecessary / redundant text\n",
    "    - The code follows the [python style guide](https://peps.python.org/pep-0008/) for naming variables, spaces, indentation, etc.\n",
    "    - The code should be commented and clearly written with intuitive variable names. For example, use variable names such as number_input, factor, hours, instead of a,b,xyz, etc."
   ]
  },
  {
   "cell_type": "markdown",
   "metadata": {},
   "source": [
    "### Question 1 (3 points)"
   ]
  },
  {
   "cell_type": "markdown",
   "metadata": {},
   "source": [
    "a) Write a program that counts down from 5 and then prints the message \"Go\"."
   ]
  },
  {
   "cell_type": "code",
   "execution_count": 1,
   "metadata": {},
   "outputs": [
    {
     "name": "stdout",
     "output_type": "stream",
     "text": [
      "5\n",
      "4\n",
      "3\n",
      "2\n",
      "1\n",
      "Go\n"
     ]
    }
   ],
   "source": [
    "# Counts down from 5 and then prints Go\n",
    "for i in range(5):\n",
    "    print(5-i)\n",
    "print(\"Go\")"
   ]
  },
  {
   "cell_type": "markdown",
   "metadata": {},
   "source": [
    "b) Write a program that asks the user for an integer, then counts down from that integer and then prints the message \"Go\". Use a try-except to ensure the user entered an integer. If it is not an integer, return the message \"You must enter an integer\". Show the output of the program if the user inputs `3`. "
   ]
  },
  {
   "cell_type": "code",
   "execution_count": 2,
   "metadata": {},
   "outputs": [
    {
     "name": "stdout",
     "output_type": "stream",
     "text": [
      "3\n",
      "2\n",
      "1\n",
      "Go\n"
     ]
    }
   ],
   "source": [
    "# User enters an integer and that integer is counted down from and Go is printed.\n",
    "# Raises an error if user enters non-integer\n",
    "try:\n",
    "    user_int = int(input(\"Integer:\"))\n",
    "except ValueError:\n",
    "    print(\"You must enter an integer\")\n",
    "else:\n",
    "    for i in range(user_int):\n",
    "        print(user_int-i)\n",
    "    print(\"Go\")"
   ]
  },
  {
   "cell_type": "markdown",
   "metadata": {},
   "source": [
    "c) Copy and modify part b to allow the user to keep entering input until they correctly enter an integer (ie: don't end after the except). Show the output of the program if the user first inputs `8.9` and then inputs `7`. "
   ]
  },
  {
   "cell_type": "code",
   "execution_count": 3,
   "metadata": {},
   "outputs": [
    {
     "name": "stdout",
     "output_type": "stream",
     "text": [
      "You must enter an integer\n",
      "7\n",
      "6\n",
      "5\n",
      "4\n",
      "3\n",
      "2\n",
      "1\n",
      "Go\n"
     ]
    }
   ],
   "source": [
    "# User enters an integer and that integer is counted down from and Go is printed.\n",
    "# Repeats input prompt until user enters a valid integer\n",
    "while True:\n",
    "    try:\n",
    "        user_int = int(input(\"Integer:\"))\n",
    "        break\n",
    "    except ValueError:\n",
    "        print(\"You must enter an integer\")\n",
    "\n",
    "for i in range(user_int):\n",
    "    print(user_int-i)\n",
    "print(\"Go\")"
   ]
  },
  {
   "cell_type": "markdown",
   "metadata": {},
   "source": [
    "### Question 2 (2 points)"
   ]
  },
  {
   "cell_type": "markdown",
   "metadata": {},
   "source": [
    "Print a star formation as follows:\n",
    "\n",
    "                                             * \n",
    "                                             * * \n",
    "                                             * * * \n",
    "                                             * * * * \n",
    "                                             \n",
    "Ask the user to input the height of the formation first. For example, 4 should return the formation above. Show the output of the program if the user inputs `5`. "
   ]
  },
  {
   "cell_type": "code",
   "execution_count": 4,
   "metadata": {},
   "outputs": [
    {
     "name": "stdout",
     "output_type": "stream",
     "text": [
      "* \n",
      "* * \n",
      "* * * \n",
      "* * * * \n",
      "* * * * * \n"
     ]
    }
   ],
   "source": [
    "# Prints a star formation using an inputted height\n",
    "height = int(input())\n",
    "for i in range(height):\n",
    "    stars = \"* \" * (i+1)\n",
    "    print(stars)"
   ]
  },
  {
   "cell_type": "markdown",
   "metadata": {},
   "source": [
    "### Question 3 (6 points)"
   ]
  },
  {
   "cell_type": "markdown",
   "metadata": {},
   "source": [
    "a) Write a program where you play 3 \"Rock, Paper, Scissors\" games against the computer. Simulate a random choice for the computer each game and ask the user to enter either rock, paper, or scissors. Print the number of times the user won out of 3 games. Show the output of the program after playing the game. \n",
    "\n",
    "Recall: rock beats scissors; scissors beats paper; paper beats rock.\n",
    "\n",
    "Example:\n",
    "\n",
    "                                    \"You won <num_win> out of 3 games.\""
   ]
  },
  {
   "cell_type": "code",
   "execution_count": 1,
   "metadata": {},
   "outputs": [
    {
     "name": "stdout",
     "output_type": "stream",
     "text": [
      "The user chose rock and the computer chose scissors\n",
      "The user chose paper and the computer chose rock\n",
      "The user chose scissors and the computer chose scissors\n",
      "You won 2 out of 3 games.\n"
     ]
    }
   ],
   "source": [
    "# Runs a rock, paper, scissors game three times\n",
    "import random as rm\n",
    "\n",
    "user_score = 0\n",
    "\n",
    "for i in range(3):\n",
    "    user_choice = input(\"Enter rock, paper, or scissors:\").lower()\n",
    "    user_choice = user_choice.strip()\n",
    "    comp_choice = rm.choice(['rock', 'paper', 'scissors'])\n",
    "    print(\"The user chose\", user_choice, \"and the computer chose\", comp_choice)\n",
    "    if ((user_choice == 'rock' and comp_choice == 'scissors') or \n",
    "        (user_choice == 'scissors' and comp_choice == 'paper') or\n",
    "        (user_choice == \"paper\" and comp_choice == \"rock\")):\n",
    "        user_score += 1\n",
    "\n",
    "print(\"You won\", user_score, \"out of 3 games.\")"
   ]
  },
  {
   "cell_type": "markdown",
   "metadata": {},
   "source": [
    "b) Write a program where you play \"Rock, Paper, Scissors\" games against the computer until you have won 3 games. Simulate a random choice for the computer each game and ask the user to enter either rock, paper, or scissors. Print the number of games it took to win 3 times. Show the output of the program after playing the game.\n",
    "\n",
    "Example:\n",
    "\n",
    "                                    \"You won 3 out of <num_games> games.\""
   ]
  },
  {
   "cell_type": "code",
   "execution_count": 2,
   "metadata": {},
   "outputs": [
    {
     "name": "stdout",
     "output_type": "stream",
     "text": [
      "The user chose rock and the computer chose rock\n",
      "The user chose paper and the computer chose rock\n",
      "The user chose scissors and the computer chose paper\n",
      "The user chose rock and the computer chose paper\n",
      "The user chose paper and the computer chose paper\n",
      "The user chose scissors and the computer chose paper\n",
      "You won 3 out of 6 games.\n"
     ]
    }
   ],
   "source": [
    "# Runs a rock, paper, scissors game until the user wins three games\n",
    "import random as rm\n",
    "\n",
    "user_score = 0\n",
    "game_count = 0\n",
    "\n",
    "while user_score < 3:\n",
    "    user_choice = input(\"Enter rock, paper, or scissors:\").lower()\n",
    "    user_choice = user_choice.strip()\n",
    "    comp_choice = rm.choice(['rock', 'paper', 'scissors'])\n",
    "    print(\"The user chose\", user_choice, \"and the computer chose\", comp_choice)\n",
    "    if ((user_choice == 'rock' and comp_choice == 'scissors') or \n",
    "        (user_choice == 'scissors' and comp_choice == 'paper') or\n",
    "        (user_choice == \"paper\" and comp_choice == \"rock\")):\n",
    "        user_score += 1\n",
    "    game_count += 1\n",
    "    \n",
    "print(\"You won 3 out of\", game_count, \"games.\")"
   ]
  },
  {
   "cell_type": "markdown",
   "metadata": {},
   "source": [
    "### Question 4 (6 points)"
   ]
  },
  {
   "cell_type": "markdown",
   "metadata": {},
   "source": [
    "a) Write a program (loop) that prints all the factors of a positive integer input by the user. A factor is any positive integer that divides the number and leaves no remainder. Show the output of the program if the user inputs `24`. \n",
    "\n",
    "Example: The factors of 8 are 1, 2, 4, 8."
   ]
  },
  {
   "cell_type": "code",
   "execution_count": 5,
   "metadata": {},
   "outputs": [
    {
     "name": "stdout",
     "output_type": "stream",
     "text": [
      "1\n",
      "2\n",
      "3\n",
      "4\n",
      "6\n",
      "8\n",
      "12\n",
      "24\n"
     ]
    }
   ],
   "source": [
    "# Prints all factors of user inputted integer\n",
    "integer = int(input(\"Enter a positive integer:\"))\n",
    "\n",
    "for i in range(1, integer+1):\n",
    "    if integer%i == 0:\n",
    "        print(i)"
   ]
  },
  {
   "cell_type": "markdown",
   "metadata": {},
   "source": [
    "b) Write a **function** called `number_of_factors` that takes an integer and returns how many factors the number has. Run your function with `24` to check if it works."
   ]
  },
  {
   "cell_type": "code",
   "execution_count": 3,
   "metadata": {},
   "outputs": [
    {
     "name": "stdout",
     "output_type": "stream",
     "text": [
      "8\n"
     ]
    }
   ],
   "source": [
    "# Prints all factors of the inputted integer\n",
    "def number_of_factors(integer):\n",
    "    count = 0\n",
    "    for i in range(1, integer+1):\n",
    "        if integer%i == 0:\n",
    "            count += 1\n",
    "    print(count)\n",
    "    \n",
    "number_of_factors(24)"
   ]
  },
  {
   "cell_type": "markdown",
   "metadata": {},
   "source": [
    "### Question 5 (6 points)"
   ]
  },
  {
   "cell_type": "markdown",
   "metadata": {},
   "source": [
    "a) Write a program (loop) that identifies whether a positive integer input by the user is prime or not. A prime number is a number whose only divisors are 1 and itself. Show the output when the program is used to check if `89` is prime or not."
   ]
  },
  {
   "cell_type": "code",
   "execution_count": 12,
   "metadata": {},
   "outputs": [
    {
     "name": "stdout",
     "output_type": "stream",
     "text": [
      "89 is prime.\n"
     ]
    }
   ],
   "source": [
    "# Determines whether a user inputted integer is prime or not\n",
    "integer = int(input(\"Enter a positive integer:\"))\n",
    "divisors = []\n",
    "\n",
    "for i in range(1, integer+1):\n",
    "    if integer%i == 0:\n",
    "        divisors.append(i)\n",
    "\n",
    "if divisors == [1, integer]:\n",
    "    print(integer, \"is prime.\")\n",
    "else:\n",
    "    print(integer, \"is not prime\")"
   ]
  },
  {
   "cell_type": "markdown",
   "metadata": {},
   "source": [
    "b) Write a **function** that checks if a positive integer is prime or not. It should take one integer input and return a boolean. Run your function with `197` to check if it works."
   ]
  },
  {
   "cell_type": "code",
   "execution_count": 14,
   "metadata": {},
   "outputs": [
    {
     "data": {
      "text/plain": [
       "True"
      ]
     },
     "execution_count": 14,
     "metadata": {},
     "output_type": "execute_result"
    }
   ],
   "source": [
    "# Determines whether an inputted integer is prime or not\n",
    "def is_prime(integer):\n",
    "    divisors = []\n",
    "    \n",
    "    for i in range(1, integer+1):\n",
    "        if integer%i == 0:\n",
    "            divisors.append(i)\n",
    "    \n",
    "    if divisors == [1, integer]:\n",
    "        is_prime = True\n",
    "    else:\n",
    "        is_prime = False\n",
    "    \n",
    "    return is_prime\n",
    "\n",
    "is_prime(197)"
   ]
  },
  {
   "cell_type": "markdown",
   "metadata": {},
   "source": [
    "### Question 6 (4 points)"
   ]
  },
  {
   "cell_type": "markdown",
   "metadata": {},
   "source": [
    "Write a function that calculates the area of a rectangle. The function should have an input for length (in inches) and width (in inches). And have 2 ouputs: the area in terms of square inches and the area in terms of square feet. There are 12 inches in 1 foot. Run your function with a length of 102 inches and width of 60 inches to check if it works."
   ]
  },
  {
   "cell_type": "code",
   "execution_count": 21,
   "metadata": {},
   "outputs": [
    {
     "data": {
      "text/plain": [
       "'Area in square inches: 6120, Area in square feet: 42.5'"
      ]
     },
     "execution_count": 21,
     "metadata": {},
     "output_type": "execute_result"
    }
   ],
   "source": [
    "# Calculates the area of a rectangle in square feet and square inches based on the\n",
    "# inputted length and width\n",
    "def rectangle_area(length, width):\n",
    "    area_inches = length*width\n",
    "    area_feet = area_inches / 144\n",
    "    return f\"Area in square inches: {area_inches}, Area in square feet: {area_feet}\"\n",
    "\n",
    "rectangle_area(102, 60)"
   ]
  },
  {
   "cell_type": "markdown",
   "metadata": {},
   "source": [
    "### Question 7 (3 points)"
   ]
  },
  {
   "cell_type": "markdown",
   "metadata": {},
   "source": [
    "Write a function that takes a word and a sentence as two string inputs and returns the number of times the word occurs in the sentence as the output.\n",
    "\n",
    "Run your function with **\"sea\"** and **“Sea shells are on the sea shore when the sea is calm.”** inputs to check if it works. Your function should work for any word and sentence. \n",
    "\n",
    "Note: at this time it does not have to differentiate a distinct word just if it appears in any form. Example: **“The sea gives me nausea.”** would return 2."
   ]
  },
  {
   "cell_type": "code",
   "execution_count": 4,
   "metadata": {},
   "outputs": [
    {
     "data": {
      "text/plain": [
       "3"
      ]
     },
     "execution_count": 4,
     "metadata": {},
     "output_type": "execute_result"
    }
   ],
   "source": [
    "# Counts how many times the inputted word appears in the inputted sentence\n",
    "def words_in_sentence(word, sentence):\n",
    "    word = word.lower()\n",
    "    sentence = sentence.lower()\n",
    "    return sentence.count(word)\n",
    "\n",
    "words_in_sentence(\"sea\", \"Sea shells are on the sea shore when the sea is calm.\")"
   ]
  }
 ],
 "metadata": {
  "kernelspec": {
   "display_name": ".venv",
   "language": "python",
   "name": "python3"
  },
  "language_info": {
   "codemirror_mode": {
    "name": "ipython",
    "version": 3
   },
   "file_extension": ".py",
   "mimetype": "text/x-python",
   "name": "python",
   "nbconvert_exporter": "python",
   "pygments_lexer": "ipython3",
   "version": "3.13.2"
  }
 },
 "nbformat": 4,
 "nbformat_minor": 4
}
